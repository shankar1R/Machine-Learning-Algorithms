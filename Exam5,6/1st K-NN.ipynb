{
 "cells": [
  {
   "cell_type": "code",
   "execution_count": 1,
   "metadata": {},
   "outputs": [
    {
     "name": "stdout",
     "output_type": "stream",
     "text": [
      "Accuracy: 100.00%\n",
      "Predicted BMI class for height 170 and weight 75: normal\n"
     ]
    }
   ],
   "source": [
    "from sklearn.model_selection import train_test_split\n",
    "from sklearn.neighbors import KNeighborsClassifier\n",
    "from sklearn.metrics import accuracy_score\n",
    "\n",
    "# Synthetic dataset: height, weight, BMI class (underweight, normal)\n",
    "data = [\n",
    "    [150, 45, 'underweight'],\n",
    "    [160, 60, 'normal'],\n",
    "    [170, 70, 'normal'],\n",
    "    [155, 50, 'underweight'],\n",
    "    [180, 80, 'normal'],\n",
    "    [165, 55, 'normal'],\n",
    "    [175, 65, 'normal'],\n",
    "    [140, 40, 'underweight'],\n",
    "    [190, 85, 'normal'],\n",
    "]\n",
    "\n",
    "# Split dataset into features (X) and labels (y)\n",
    "X = [[row[0], row[1]] for row in data]\n",
    "y = [row[2] for row in data]\n",
    "\n",
    "# Split data into training and testing sets\n",
    "X_train, X_test, y_train, y_test = train_test_split(X, y, test_size=0.2, random_state=42)\n",
    "\n",
    "# Create K-NN classifier with k=3\n",
    "knn_classifier = KNeighborsClassifier(n_neighbors=3)\n",
    "\n",
    "# Train the classifier on the training data\n",
    "knn_classifier.fit(X_train, y_train)\n",
    "\n",
    "# Make predictions on the test data\n",
    "predictions = knn_classifier.predict(X_test)\n",
    "\n",
    "# Calculate accuracy\n",
    "accuracy = accuracy_score(y_test, predictions)\n",
    "\n",
    "print(f\"Accuracy: {accuracy * 100:.2f}%\")\n",
    "\n",
    "# Example prediction\n",
    "example_height = 170\n",
    "example_weight = 75\n",
    "example_data = [[example_height, example_weight]]\n",
    "predicted_class = knn_classifier.predict(example_data)\n",
    "\n",
    "print(f\"Predicted BMI class for height {example_height} and weight {example_weight}: {predicted_class[0]}\")\n"
   ]
  }
 ],
 "metadata": {
  "kernelspec": {
   "display_name": "base",
   "language": "python",
   "name": "python3"
  },
  "language_info": {
   "codemirror_mode": {
    "name": "ipython",
    "version": 3
   },
   "file_extension": ".py",
   "mimetype": "text/x-python",
   "name": "python",
   "nbconvert_exporter": "python",
   "pygments_lexer": "ipython3",
   "version": "3.9.13"
  },
  "orig_nbformat": 4
 },
 "nbformat": 4,
 "nbformat_minor": 2
}
