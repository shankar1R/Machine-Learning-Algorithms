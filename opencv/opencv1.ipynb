{
 "cells": [
  {
   "cell_type": "code",
   "execution_count": 18,
   "metadata": {},
   "outputs": [],
   "source": [
    "import cv2 as cv\n",
    "img = cv.imread(\"C:/Users/User/Pictures/Screenshot (58).png\")\n",
    "\n",
    "cv.imshow(\"Display window\", img)\n",
    "k = cv.waitKey(0) # Wait for a keystroke in the window"
   ]
  },
  {
   "cell_type": "markdown",
   "metadata": {},
   "source": [
    "#  Read an image using Open CV"
   ]
  },
  {
   "cell_type": "markdown",
   "metadata": {},
   "source": [
    "https://encrypted-tbn0.gstatic.com/images?q=tbn:ANd9GcTvF0jCQhF9qJuqad_BKj8_MCFASxQ9yTYK1Q&usqp=CAU"
   ]
  },
  {
   "cell_type": "code",
   "execution_count": 23,
   "metadata": {},
   "outputs": [
    {
     "data": {
      "text/plain": [
       "-1"
      ]
     },
     "execution_count": 23,
     "metadata": {},
     "output_type": "execute_result"
    }
   ],
   "source": [
    "import cv2\n",
    "\n",
    "# load the input image\n",
    "photo= cv2.imread('E:\\Machine Learning Algorithms\\opencv\\istockphoto-873476206-1024x1024.jpg')\n",
    "\n",
    "# convert the input image to grayscale\n",
    "gray = cv2.cvtColor(photo, cv2.COLOR_BGR2GRAY)\n",
    "\n",
    "# apply thresholding to convert grayscale to binary image\n",
    "ret,thresh = cv2.threshold(gray,70,255,0)\n",
    "\n",
    "# Display the Binary Image\n",
    "cv2.imshow(\"Binary Image\", thresh)\n",
    "cv2.waitKey(0)\n",
    "# cv2.destroyAllWindows()"
   ]
  },
  {
   "cell_type": "code",
   "execution_count": null,
   "metadata": {},
   "outputs": [],
   "source": [
    "import cv2 as cv\n",
    "\n",
    "path=(\"istockphoto-873476206-1024x1024.jpg\")\n",
    "\n",
    "image=cv.imread(path)\n",
    "\n",
    "window_name=\"image\"\n",
    "\n",
    "cv.imshow(window_name,image)\n",
    "\n",
    "cv.waitKey(0)\n",
    "\n",
    "cv.destroyAllWindows()"
   ]
  },
  {
   "cell_type": "code",
   "execution_count": 29,
   "metadata": {},
   "outputs": [],
   "source": [
    "import cv2 as cv\n",
    "\n",
    "path=(\"image.webp\")\n",
    "\n",
    "image=cv.imread(path,0)\n",
    "\n",
    "window_name=\"image\"\n",
    "\n",
    "cv.imshow(window_name,image)\n",
    "\n",
    "cv.waitKey(0)\n",
    "\n",
    "cv.destroyAllWindows()"
   ]
  },
  {
   "cell_type": "code",
   "execution_count": 31,
   "metadata": {},
   "outputs": [],
   "source": [
    "import cv2 as cv\n",
    "import os\n",
    "\n",
    "path=(\"image.webp\")\n",
    "\n",
    "image=cv.imread(path,0)\n",
    "\n",
    "window_name=\"image\"\n",
    "\n",
    "cv.imshow(window_name,image)\n",
    "\n",
    "cv.waitKey(0)\n",
    "\n",
    "cv.destroyAllWindows()\n",
    "\n",
    "path1=(\"E:\\Machine Learning Algorithms\\opencv\\image10\")\n",
    "dirtectory=(path1)\n"
   ]
  },
  {
   "cell_type": "code",
   "execution_count": 38,
   "metadata": {},
   "outputs": [
    {
     "name": "stdout",
     "output_type": "stream",
     "text": [
      "Before saving image:\n",
      "['.git', 'grayscale_image.jpg', 'image.webp', 'istockphoto-873476206-1024x1024.jpg', 'keras.ipynb', 'model.h5', 'opencv1.ipynb', 'savedImage.jpg']\n",
      "After saving image:\n",
      "['.git', 'grayscale_image.jpg', 'image.webp', 'istockphoto-873476206-1024x1024.jpg', 'keras.ipynb', 'model.h5', 'opencv1.ipynb', 'savedImage.jpg']\n",
      "Successfully saved\n"
     ]
    }
   ],
   "source": [
    "import cv2 as cv\n",
    "import os\n",
    "\n",
    "\n",
    "\n",
    "image_path=cv.imread(\"E:/Machine Learning Algorithms/opencv/image.webp\")\n",
    "\n",
    "\n",
    "directory=(\"E:/Machine Learning Algorithms/opencv\")\n",
    "\n",
    "image_add=cv.imread(path,0)\n",
    "\n",
    "os.chdir(directory)\n",
    "\n",
    "print(\"Before saving image:\") \n",
    "\n",
    "print(os.listdir(directory)) \n",
    "\n",
    "# filename = 'savedImage.jpg'\n",
    "\n",
    "cv2.imwrite(f'savedImage.jpg',image_add)\n",
    "\n",
    "print(\"After saving image:\")  \n",
    "print(os.listdir(directory))\n",
    "  \n",
    "print('Successfully saved')"
   ]
  }
 ],
 "metadata": {
  "kernelspec": {
   "display_name": "Python 3",
   "language": "python",
   "name": "python3"
  },
  "language_info": {
   "codemirror_mode": {
    "name": "ipython",
    "version": 3
   },
   "file_extension": ".py",
   "mimetype": "text/x-python",
   "name": "python",
   "nbconvert_exporter": "python",
   "pygments_lexer": "ipython3",
   "version": "3.9.17"
  },
  "orig_nbformat": 4
 },
 "nbformat": 4,
 "nbformat_minor": 2
}
